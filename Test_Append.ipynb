{
 "cells": [
  {
   "cell_type": "code",
   "execution_count": 4,
   "id": "03739201",
   "metadata": {},
   "outputs": [
    {
     "name": "stdout",
     "output_type": "stream",
     "text": [
      "Index(['Unnamed: 0', 'description', 'username', 'name', 'id', 'created_at',\n",
      "       'tier', 'category', 'VC', 'next_token', 'result_count',\n",
      "       'followers_count', 'following_count', 'tweet_count', 'listed_count',\n",
      "       'detected_at'],\n",
      "      dtype='object')\n",
      "23812\n",
      "-----\n",
      "Index(['id', 'description', 'public_metrics', 'name', 'created_at', 'username',\n",
      "       'tier', 'category', 'VC', 'next_token', 'result_count', 'detected_at'],\n",
      "      dtype='object')\n",
      "len 42043\n",
      "-----\n",
      "Index(['id', 'description', 'name', 'created_at', 'username', 'tier',\n",
      "       'category', 'VC', 'next_token', 'result_count', 'detected_at',\n",
      "       'followers_count', 'following_count', 'tweet_count', 'listed_count'],\n",
      "      dtype='object')\n",
      "len 23749\n",
      "-----\n",
      "203\n",
      "Index(['id', 'description', 'name', 'created_at', 'username', 'tier',\n",
      "       'category', 'VC', 'next_token', 'result_count', 'detected_at',\n",
      "       'followers_count', 'following_count', 'tweet_count', 'listed_count'],\n",
      "      dtype='object')\n",
      "Index(['Unnamed: 0', 'description', 'username', 'name', 'id', 'created_at',\n",
      "       'tier', 'category', 'VC', 'next_token', 'result_count',\n",
      "       'followers_count', 'following_count', 'tweet_count', 'listed_count',\n",
      "       'detected_at'],\n",
      "      dtype='object')\n",
      "24015\n"
     ]
    }
   ],
   "source": [
    "import pandas as pd\n",
    "import json\n",
    "import ast\n",
    "from ast import literal_eval\n",
    "\n",
    "\n",
    "main=pd.read_csv(\"main.csv\")\n",
    "print(main.columns)\n",
    "print(len(main))\n",
    "print(\"-----\")\n",
    "\n",
    "\n",
    "#100 recent followers for all the accounts\n",
    "testoor=pd.read_csv(\"testoor.csv\")\n",
    "print(testoor.columns)\n",
    "print(\"len\",len(testoor))\n",
    "print(\"-----\")\n",
    "\n",
    "output=testoor\n",
    "output.public_metrics = output.public_metrics.fillna('{}') \n",
    "output.public_metrics = output.public_metrics.apply(literal_eval)\n",
    "output = output.join(pd.json_normalize(output.pop('public_metrics')))\n",
    "\n",
    "#removing the duplicate ones\n",
    "output=output.drop_duplicates(keep=\"first\",subset=\"username\")\n",
    "\n",
    "print(output.columns)\n",
    "print(\"len\",len(output))\n",
    "print(\"-----\")\n",
    "\n",
    "# output.to_csv(\"test_testoor_normalize.csv\",index=False)\n",
    "\n",
    "# test_test=pd.read_csv(\"test_testoor_normalize.csv\")\n",
    "# print(test_test.columns)\n",
    "# print(\"len\",len(test_test))\n",
    "\n",
    "#checking if the recent followers have been detected previously\n",
    "new_acc=output[~output.username.isin(main.username)]\n",
    "print(len(new_acc))\n",
    "print(new_acc.columns)\n",
    "\n",
    "main=pd.concat([main,new_acc],axis=0,ignore_index=True)\n",
    "print(main.columns)\n",
    "print(len(main))\n",
    "\n",
    "main.to_csv(\"main.csv\",index=False)"
   ]
  },
  {
   "cell_type": "code",
   "execution_count": 6,
   "id": "b231e561",
   "metadata": {},
   "outputs": [],
   "source": [
    "from datetime import date, timedelta\n",
    "from datetime import date, timedelta\n",
    "new_acc.to_csv(str(date.today())+'.csv',index=False)"
   ]
  },
  {
   "cell_type": "code",
   "execution_count": 49,
   "id": "3181c0d0",
   "metadata": {},
   "outputs": [
    {
     "name": "stdout",
     "output_type": "stream",
     "text": [
      "Index(['Unnamed: 0', 'description', 'username', 'name', 'id', 'created_at',\n",
      "       'tier', 'category', 'VC', 'next_token', 'result_count',\n",
      "       'followers_count', 'following_count', 'tweet_count', 'listed_count',\n",
      "       'detected_at'],\n",
      "      dtype='object')\n",
      "23812\n",
      "-----\n"
     ]
    }
   ],
   "source": [
    "update_main=pd.read_csv(\"main copy - main copy.csv\")\n",
    "print(update_main.columns)\n",
    "print(len(main))\n",
    "print(\"-----\")"
   ]
  },
  {
   "cell_type": "code",
   "execution_count": 3,
   "id": "fb8b46f8",
   "metadata": {},
   "outputs": [
    {
     "name": "stdout",
     "output_type": "stream",
     "text": [
      "Index(['id', 'description', 'public_metrics', 'name', 'created_at', 'username',\n",
      "       'tier', 'category', 'VC', 'next_token', 'result_count', 'detected_at'],\n",
      "      dtype='object')\n",
      "['2022-12-21']\n"
     ]
    }
   ],
   "source": []
  },
  {
   "cell_type": "code",
   "execution_count": 44,
   "id": "9dd1d6d5",
   "metadata": {},
   "outputs": [
    {
     "name": "stdout",
     "output_type": "stream",
     "text": [
      "   a  b\n",
      "0  1  5\n",
      "1  2  6\n",
      "2  3  7\n",
      "3  4  8 \n",
      "\n",
      "   a  b\n",
      "0  1  5\n",
      "1  2  6\n",
      "2  3  7\n",
      "3  4  8\n",
      "4  5  1\n",
      "5  6  4\n",
      "6  7  3\n"
     ]
    }
   ],
   "source": [
    "# Creating the first Dataframe using dictionary\n",
    "df1 = df = pd.DataFrame({\"a\":[1, 2, 3, 4],\n",
    "                         \"b\":[5, 6, 7, 8]})\n",
    " \n",
    "# Creating the Second Dataframe using dictionary\n",
    "df2 = pd.DataFrame({\"b\":[1, 4, 3],\n",
    "                    \"a\":[5, 6, 7]})\n",
    " \n",
    "# Print df1\n",
    "print(df1, \"\\n\")\n",
    " \n",
    "# Print df2\n",
    "df1=pd.concat([df1,df2],axis=0,ignore_index=True)\n",
    "print(df1)"
   ]
  },
  {
   "cell_type": "code",
   "execution_count": null,
   "id": "60e15363",
   "metadata": {},
   "outputs": [],
   "source": []
  }
 ],
 "metadata": {
  "kernelspec": {
   "display_name": "Python 3 (ipykernel)",
   "language": "python",
   "name": "python3"
  },
  "language_info": {
   "codemirror_mode": {
    "name": "ipython",
    "version": 3
   },
   "file_extension": ".py",
   "mimetype": "text/x-python",
   "name": "python",
   "nbconvert_exporter": "python",
   "pygments_lexer": "ipython3",
   "version": "3.10.4"
  }
 },
 "nbformat": 4,
 "nbformat_minor": 5
}
